{
 "cells": [
  {
   "cell_type": "markdown",
   "metadata": {},
   "source": [
    "# OpenRA analysis\n",
    "\n",
    "> we have a lot of potentially interesting info in our master sqlite database, but no proper ways to visualise or mine it.  It would be awesome if you could write a jupyter notebook that pulled out some useful stats, and then if that works out we could pull out the popular (not necessarily the same as useful!) stats into a script that runs on a cron job to output a json file that we can then plot as part of http://www.openra.net/players/\n",
    "\n",
    "> There are two main tables with the most interesting data:\n",
    "\n",
    "> `finished`: holds the records of completed multiplayer matches.  From this it would be good to get a handle on the most popular servers partitioned by mod and host (people usually host multiple on one machine or multiple vms with similar ips), and something like the most popular maps this week / month / release would be great for the public stats page.  Info on a map can be queried from its id using http://resource.openra.net/map/hash/<map hash>.\n",
    "\n",
    "> `sysinfo` holds all the data from our system information survey.  The boring but most useful stuff would be to aggregate stats on mono/.net and GL versions, plus screen resolutions and display scales. Will need to do some ugly parsing to get just the useful parts out of the version strings.  The OS share would be another good stat for the players page, as well as the number of people who have launched the game in the last <time>.\n",
    "\n",
    "> Integrate stats from github\n",
    "\n",
    "## Previous work\n",
    "\n",
    "Stats are only available when users submit information, which is what we have.\n",
    "\n",
    "* OS split (windows/mac/linux)\n",
    "* Cumulative number of players\n",
    "* Language settings\n",
    "* Most popular mod\n",
    "* Most popular mod by language setting\n",
    "* Most popular map\n",
    "* Match length\n",
    "\n",
    "## Available information\n",
    "\n",
    "It seems all tables have an `id` parameter, which is autoincrementing and is probably meaningless. I shall ignore it for the purposes of this analysis. There are no foreign keys or other indexes so cross-table matching is a little ad-hoc.\n",
    "\n",
    "### `servers`\n",
    "\n",
    "* name - name of the server\n",
    "* address - ip address of the server\n",
    "* players - number of players on the server\n",
    "* state - either 1 or 2\n",
    "* ts - timestamp\n",
    "* map - hash of the map id, working for some but not all, 118 maps in total\n",
    "* mods - mod and version\n",
    "* bots - number of bots playing\n",
    "* spectators - number of spectators (only 0, 1 or 8 values used)\n",
    "* maxplayers - maximum number of players\n",
    "* protected - boolean\n",
    "* started - human readable time the game was started (note not the same as `ts`)\n",
    "\n",
    "### `finished`\n",
    "\n",
    "The records of completed multiplayer matches. Good to track stats for games which successfully complete\n",
    "\n",
    "* game_id - integer assigned to a game. could be a way to match between the `finished` table and the `started` table.\n",
    "* name - name of the game\n",
    "* address - ip address (of the server?), only ~20% of the ip addresses match the `server` ip addresses\n",
    "* map - map the game was played on, probably links with the `map_stats` table\n",
    "* game_mod - mod played, not including version\n",
    "* version - version played; can be matched with `servers` table with `select game_mod || '@' || version from finished`\n",
    "* protected - boolean\n",
    "* started - datetime of game start\n",
    "* finished - datetime of game end\n",
    "\n",
    "### `map_stats`\n",
    "\n",
    "Statistics for each map. Note this is essentially just caching a query on the finished games, e.g.\n",
    "\n",
    "```sql\n",
    "select map, count(*) as played_counter from finished group by map\n",
    "```\n",
    "\n",
    "* map - hash of the map\n",
    "* played_counter - number of games on this map\n",
    "* last_change - date of the last game played\n",
    "\n",
    "### `started`\n",
    "\n",
    "Info about games that were started but not necessarily finished. Common columns with `finished` are listed above, but new columns are:\n",
    "\n",
    "* players - number of players\n",
    "* spectators - number of spectators\n",
    "* bots - number of bots\n",
    "\n",
    "### `clients`\n",
    "\n",
    "* address - ip address of the client\n",
    "* client - username\n",
    "* ts - timestamp of _something_...\n",
    "\n",
    "### `sysinfo`\n",
    "\n",
    "System info\n",
    "\n",
    "* system_id - UUID of something\n",
    "* updated - timestamp of last client update\n",
    "* platform - OSX/Windows/Linux\n",
    "* os - kernel version or windows version; kernel version includes OSX kernels\n",
    "* runtime - either .NET CLR or Mono, with version number\n",
    "* gl - opengl version\n",
    "* lang - language of client\n",
    "* version - version of the game used to collect the data\n",
    "* mod - mod used, more than just the core 3 mods\n",
    "* modversion - version of the mod used\n",
    "* x64 - boolean for 64 bit mode\n",
    "* windowsize - game resolution\n",
    "* windowscale - scaling; (some entries have commas in which are the same as with decimal places with european languages)\n",
    "* sysinfoversion - either 1 or 2\n",
    "\n",
    "## Ideas\n",
    "\n",
    "* number of games started but not finished (30000 started but not finished)\n",
    "* swearing in game names\n",
    "* breakdown of the versions used\n",
    "* analysis of people using bots"
   ]
  },
  {
   "cell_type": "markdown",
   "metadata": {},
   "source": [
    "Before we get started, let's import some packages so we have them available for the rest of the notebook."
   ]
  },
  {
   "cell_type": "code",
   "execution_count": 8,
   "metadata": {},
   "outputs": [
    {
     "name": "stdout",
     "output_type": "stream",
     "text": [
      "The autoreload extension is already loaded. To reload it, use:\n",
      "  %reload_ext autoreload\n"
     ]
    }
   ],
   "source": [
    "%matplotlib inline\n",
    "%config InlineBackend.figure_format = 'retina'\n",
    "%load_ext autoreload\n",
    "\n",
    "%autoreload 1\n",
    "\n",
    "import matplotlib.pyplot as plt\n",
    "import numpy as np\n",
    "import pandas as pd\n",
    "import seaborn.apionly as sns\n",
    "from IPython.display import Image\n",
    "\n",
    "# Some utils code, which is autoreloaded whenever code from it is called.\n",
    "%aimport utils\n",
    "\n",
    "plt.style.use('ggplot')"
   ]
  },
  {
   "cell_type": "markdown",
   "metadata": {},
   "source": [
    "Now we think about what we want to know. First we start by re-creating the previous work done."
   ]
  },
  {
   "cell_type": "markdown",
   "metadata": {},
   "source": [
    "## Re-creating the previous work\n",
    "\n",
    "To recap, the [previous analysis][1] investigated these things:\n",
    "\n",
    "* OS split (windows/mac/linux)\n",
    "* Cumulative number of players\n",
    "* Language settings\n",
    "* Most popular mod\n",
    "* Most popular mod by language setting\n",
    "* Most popular map\n",
    "* Match length\n",
    "\n",
    "[1]: http://www.openra.net/news/2017-01-stats-post/"
   ]
  },
  {
   "cell_type": "markdown",
   "metadata": {},
   "source": [
    "### OS split"
   ]
  },
  {
   "cell_type": "code",
   "execution_count": 11,
   "metadata": {},
   "outputs": [
    {
     "data": {
      "text/html": [
       "<img src=\"http://www.openra.net/images/news/20170110-stats-downloads-vs-users.png\"/>"
      ],
      "text/plain": [
       "<IPython.core.display.Image object>"
      ]
     },
     "metadata": {},
     "output_type": "display_data"
    }
   ],
   "source": [
    "display(Image(url='http://www.openra.net/images/news/20170110-stats-downloads-vs-users.png'))"
   ]
  },
  {
   "cell_type": "code",
   "execution_count": 12,
   "metadata": {},
   "outputs": [
    {
     "name": "stdout",
     "output_type": "stream",
     "text": [
      "          n_users\n",
      "platform         \n",
      "Linux       16921\n",
      "OSX          9551\n",
      "Windows     87254\n"
     ]
    }
   ],
   "source": [
    "# Select distinct system ids to ensure unique systems\n",
    "sysinfo_platforms = pd.read_sql(\n",
    "    '''\n",
    "    select platform, count(distinct system_id) as n_users\n",
    "    from sysinfo\n",
    "    where platform is not null\n",
    "    group by platform\n",
    "    ''', 'sqlite:///openra-20170606.db').set_index('platform')\n",
    "print(sysinfo_platforms)"
   ]
  },
  {
   "cell_type": "markdown",
   "metadata": {},
   "source": [
    "We see from the raw numbers that since 2017-01 when the blog post was written (which may or may not be when the analysis was performed), the user count has gone up massively. Remember we are comparing to the orange bars in the plot above, and as such all platforms have increased by between 4x and 6x."
   ]
  },
  {
   "cell_type": "code",
   "execution_count": 13,
   "metadata": {},
   "outputs": [
    {
     "data": {
      "text/plain": [
       "<matplotlib.axes._subplots.AxesSubplot at 0x1148747b8>"
      ]
     },
     "execution_count": 13,
     "metadata": {},
     "output_type": "execute_result"
    },
    {
     "data": {
      "image/png": "[encoded data removed]",
      "text/plain": [
       "<matplotlib.figure.Figure at 0x114847cc0>"
      ]
     },
     "metadata": {
      "image/png": {
       "height": 301,
       "width": 389
      }
     },
     "output_type": "display_data"
    }
   ],
   "source": [
    "sysinfo_platforms.plot.bar()"
   ]
  }
 ],
 "metadata": {
  "kernelspec": {
   "display_name": "Python 3",
   "language": "python",
   "name": "python3"
  },
  "language_info": {
   "codemirror_mode": {
    "name": "ipython",
    "version": 3
   },
   "file_extension": ".py",
   "mimetype": "text/x-python",
   "name": "python",
   "nbconvert_exporter": "python",
   "pygments_lexer": "ipython3",
   "version": "3.6.1"
  }
 },
 "nbformat": 4,
 "nbformat_minor": 2
}
